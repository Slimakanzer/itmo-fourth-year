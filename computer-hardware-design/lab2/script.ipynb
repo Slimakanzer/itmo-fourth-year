{
 "metadata": {
  "language_info": {
   "codemirror_mode": {
    "name": "ipython",
    "version": 3
   },
   "file_extension": ".py",
   "mimetype": "text/x-python",
   "name": "python",
   "nbconvert_exporter": "python",
   "pygments_lexer": "ipython3",
   "version": "3.7.9-final"
  },
  "orig_nbformat": 2,
  "kernelspec": {
   "name": "python3",
   "display_name": "Python 3.7.9 64-bit",
   "metadata": {
    "interpreter": {
     "hash": "6955569c23254a5de4af59d0b1d7cabe925dc44d1b972ca685f1165d6de96f15"
    }
   }
  }
 },
 "nbformat": 4,
 "nbformat_minor": 2,
 "cells": [
  {
   "cell_type": "code",
   "execution_count": 11,
   "metadata": {},
   "outputs": [],
   "source": [
    "import os\n",
    "import re"
   ]
  },
  {
   "source": [
    "Считаем сколько раз модуль входит в различные цепи"
   ],
   "cell_type": "markdown",
   "metadata": {}
  },
  {
   "cell_type": "code",
   "execution_count": 41,
   "metadata": {},
   "outputs": [],
   "source": [
    "modules = { 1: 0, 2: 0, 3: 0, 4: 0, 5: 0, 6: 0, 7: 0, 8: 0, 9: 0, 10: 0, 11: 0, 12: 0, 13: 0, 14: 0, 15: 0, 16: 0, 17: 0, 18: 0 }\n",
    "\n",
    "with open('README.md', encoding='utf8') as f:\n",
    "    while True:\n",
    "        line = f.readline()\n",
    "        if not line:\n",
    "            break\n",
    "\n",
    "        for k in modules:\n",
    "            search_str = \" \" + str(k) + \"/\"\n",
    "            if search_str in line:\n",
    "                modules[k] += 1"
   ]
  },
  {
   "source": [
    "Отображаем модули на слоты. Самые связные в центр, остальные размазываем по краям\n",
    "\n",
    "Слоты меют такой вид:\n",
    "\n",
    "- 1  2  3  4  5\n",
    "- 6  7  8  9  10\n",
    "- 11 12 13 14 15\n",
    "-   16 17 18"
   ],
   "cell_type": "markdown",
   "metadata": {}
  },
  {
   "source": [
    "slot = { 8: 0, 3: 0, 9: 0, 13: 0, 7: 0, 4: 0, 10: 0, 14: 0, 17: 0, 12: 0, 6: 0, 2: 0, 5: 0, 15: 0, 18: 0, 16: 0, 11: 0, 1: 0 }\n",
    "modules = {k: v for k, v in sorted(modules.items(), reverse=True, key=lambda item: item[1])}\n",
    "modules_list = list(modules.keys())\n",
    "\n",
    "i = 0\n",
    "for k in slot.keys():\n",
    "    slot[k] = modules_list[i]\n",
    "    i += 1\n",
    "\n",
    "print(modules)\n",
    "print(slot)"
   ],
   "cell_type": "code",
   "metadata": {},
   "execution_count": 42,
   "outputs": [
    {
     "output_type": "stream",
     "name": "stdout",
     "text": [
      "{3: 10, 11: 10, 12: 10, 13: 10, 16: 10, 17: 10, 18: 10, 1: 9, 7: 9, 15: 9, 5: 8, 9: 8, 6: 7, 2: 6, 4: 6, 8: 6, 10: 6, 14: 6}\n{8: 3, 3: 11, 9: 12, 13: 13, 7: 16, 4: 17, 10: 18, 14: 1, 17: 7, 12: 15, 6: 5, 2: 9, 5: 6, 15: 2, 18: 4, 16: 8, 11: 10, 1: 14}\n"
     ]
    }
   ]
  }
 ]
}